{
 "cells": [
  {
   "cell_type": "markdown",
   "metadata": {},
   "source": [
    "# Intro to DataFrames\n",
    "A `DataFrame` is similar to a `TimeArray`, but has no (meaningfully) ordered index. DataFrames are great for data analysis and statistics. Documentation is [here](http://juliadata.github.io/DataFrames.jl/stable)."
   ]
  },
  {
   "cell_type": "code",
   "execution_count": null,
   "metadata": {},
   "outputs": [],
   "source": [
    "# Pkg.add(\"DataFrames\")\n",
    "using DataFrames\n",
    "using TimeSeries\n",
    "\n",
    "# import two functions from DataFrames which have analogues in TimeSeries\n",
    "import DataFrames: head, tail"
   ]
  },
  {
   "cell_type": "code",
   "execution_count": null,
   "metadata": {},
   "outputs": [],
   "source": [
    "using Plots\n",
    "gr()"
   ]
  },
  {
   "cell_type": "markdown",
   "metadata": {},
   "source": [
    "## Basics\n",
    "Let's construct a `DataFrame` with three columns (called 'Z', 'date', 'ret') of different types:"
   ]
  },
  {
   "cell_type": "code",
   "execution_count": null,
   "metadata": {},
   "outputs": [],
   "source": [
    "# Z: from 6 to 1 in descending order, \n",
    "# date: 6 consequtive days from today, \n",
    "# ret: random numbers\n",
    "df = DataFrame(\n",
    "    Z=collect(6:-1:1), \n",
    "    date=[Dates.today() + Dates.Day(p) for p in collect(1:6)], \n",
    "    ret=randn(6));\n",
    "\n",
    "print(df)"
   ]
  },
  {
   "cell_type": "markdown",
   "metadata": {
    "collapsed": true
   },
   "source": [
    "## Accessors\n",
    "are more or less the same as in TimeArrays, just querying columns is done differently."
   ]
  },
  {
   "cell_type": "code",
   "execution_count": null,
   "metadata": {},
   "outputs": [],
   "source": [
    "# select a column\n",
    "print(df[:date])"
   ]
  },
  {
   "cell_type": "code",
   "execution_count": null,
   "metadata": {},
   "outputs": [],
   "source": [
    "# select a row\n",
    "print(df[4,:])"
   ]
  },
  {
   "cell_type": "code",
   "execution_count": null,
   "metadata": {},
   "outputs": [],
   "source": [
    "# select some rows and some columns\n",
    "print(df[4:6, [:Z, :ret]])"
   ]
  },
  {
   "cell_type": "code",
   "execution_count": null,
   "metadata": {},
   "outputs": [],
   "source": [
    "# select those rows for which Z > 3\n",
    "print(df[df[:Z] .> 3, :])"
   ]
  },
  {
   "cell_type": "code",
   "execution_count": null,
   "metadata": {},
   "outputs": [],
   "source": [
    "# head, tail (`k` rows)\n",
    "k = 2\n",
    "println(\"\\nhead of df:\\n\")\n",
    "print(head(df, k))\n",
    "println(\"\\ntail of df:\\n\")\n",
    "print(tail(df, k))"
   ]
  },
  {
   "cell_type": "markdown",
   "metadata": {},
   "source": [
    "## Joins\n",
    "Let's create another DataFrame sharing one columns name with `df` and merge it with the latter:"
   ]
  },
  {
   "cell_type": "code",
   "execution_count": null,
   "metadata": {},
   "outputs": [],
   "source": [
    "# date: 5 consequtive days from today\n",
    "df_2 = DataFrame(\n",
    "    date=[Dates.today() + Dates.Day(p) for p in collect(3:7)], \n",
    "    ret=randn(5))\n",
    "\n",
    "println(\"\\nold df\\n\")\n",
    "print(df)\n",
    "println(\"\\nnew df, with dates overlapping those in df\\n\")\n",
    "print(df_2)"
   ]
  },
  {
   "cell_type": "markdown",
   "metadata": {},
   "source": [
    "Join `df` and `df_2` on column `A` with outer join (all rows are kept from both dataframes):"
   ]
  },
  {
   "cell_type": "code",
   "execution_count": null,
   "metadata": {},
   "outputs": [],
   "source": [
    "df_merged_o = join(df, df_2, on=:date, kind = :outer);\n",
    "\n",
    "println(\"\\nmerged with outer join\\n\")\n",
    "print(df_merged_o)"
   ]
  },
  {
   "cell_type": "markdown",
   "metadata": {},
   "source": [
    "Merging might screw up the order of rows, but you can sort rows using `sort!` as follows:"
   ]
  },
  {
   "cell_type": "code",
   "execution_count": null,
   "metadata": {},
   "outputs": [],
   "source": [
    "sort!(df_merged_o, cols=[order(:date)])"
   ]
  },
  {
   "cell_type": "markdown",
   "metadata": {},
   "source": [
    "Join `df` and `df_2` on column `A` with inner join (only the rows available in both dataframes are kept):"
   ]
  },
  {
   "cell_type": "code",
   "execution_count": null,
   "metadata": {},
   "outputs": [],
   "source": [
    "df_merged_i = join(df, df_2, on=:date, kind = :inner);\n",
    "\n",
    "println(\"\\nmerged with inner join\\n\")\n",
    "print(df_merged_i)"
   ]
  },
  {
   "cell_type": "markdown",
   "metadata": {},
   "source": [
    "## A useful function"
   ]
  },
  {
   "cell_type": "code",
   "execution_count": null,
   "metadata": {},
   "outputs": [],
   "source": [
    "# summary of dataframe\n",
    "print(describe(df))"
   ]
  },
  {
   "cell_type": "markdown",
   "metadata": {},
   "source": [
    "## I/O\n",
    "to/from .csv can be easily done with package `CSV` which offers enhanced functionality over the stuff built-in into `DataFrames`. Documentation is [here](http://juliadata.github.io/CSV.jl/stable/)."
   ]
  },
  {
   "cell_type": "code",
   "execution_count": null,
   "metadata": {},
   "outputs": [],
   "source": [
    "# Pkg.add(\"CSV\")\n",
    "using CSV"
   ]
  },
  {
   "cell_type": "markdown",
   "metadata": {},
   "source": [
    "### Output\n",
    "Let's write `df` to file **/Results/df.csv**:"
   ]
  },
  {
   "cell_type": "code",
   "execution_count": null,
   "metadata": {},
   "outputs": [],
   "source": [
    "# filename\n",
    "hangar = \"Results/df.csv\";\n",
    "\n",
    "# output\n",
    "CSV.write(hangar, df, delim=',');"
   ]
  },
  {
   "cell_type": "markdown",
   "metadata": {},
   "source": [
    "### Input\n",
    "Let's read `df` back in:"
   ]
  },
  {
   "cell_type": "code",
   "execution_count": null,
   "metadata": {},
   "outputs": [],
   "source": [
    "# filename\n",
    "hangar = \"Results/df.csv\";\n",
    "\n",
    "# read in\n",
    "df_fom_csv = CSV.read(hangar, delim=',');\n",
    "\n",
    "println(\"\\ndf\\n\")\n",
    "print(df_fom_csv)\n",
    "\n",
    "println(\"\\nsummary of df\\n\")\n",
    "print(describe(df_fom_csv))"
   ]
  },
  {
   "cell_type": "markdown",
   "metadata": {},
   "source": [
    "## Conversion to `TimeArray`\n",
    "is done with the familiar `TimeArray` constructor, but one has to conform to its rules: `dates` and `values` must be instances of `Array`!"
   ]
  },
  {
   "cell_type": "code",
   "execution_count": null,
   "metadata": {},
   "outputs": [],
   "source": [
    "# convert everything to array first\n",
    "dt = convert(Array, Array(df[:date]));\n",
    "val = convert(Array, df[[:Z, :ret]]);\n",
    "\n",
    "# construct TimeArray\n",
    "tarr = TimeArray(dt, val, [\"Z\", \"date\"])\n",
    "plot(tarr)"
   ]
  },
  {
   "cell_type": "markdown",
   "metadata": {},
   "source": [
    "# Fetching data from web sources\n",
    "## Example: from fred.stlouisfed.org\n",
    "St. Louis Fed offers a free API which GitHub user **micahjsmith** used to write a set of simple Julia functions, gathered in `FredData` package (registered). Documentation is [here](https://github.com/micahjsmith/FredData.jl)."
   ]
  },
  {
   "cell_type": "code",
   "execution_count": null,
   "metadata": {},
   "outputs": [],
   "source": [
    "Pkg.add(\"FredData\")\n",
    "\n",
    "# for fetching data from St.Louis Fed\n",
    "using FredData"
   ]
  },
  {
   "cell_type": "markdown",
   "metadata": {},
   "source": [
    "First, we need a connection to the St. Louis Fed server, which is established with an API key. This should work:\n",
    "\n",
    "**15c304c4c4a493bcc70ac9d3f3dcb94b**\n",
    "\n",
    "but you can register your own key on the [website](https://research.stlouisfed.org/docs/api/api_key.html)."
   ]
  },
  {
   "cell_type": "code",
   "execution_count": null,
   "metadata": {},
   "outputs": [],
   "source": [
    "f = Fred(\"15c304c4c4a493bcc70ac9d3f3dcb94b\");"
   ]
  },
  {
   "cell_type": "markdown",
   "metadata": {},
   "source": [
    "Then, the command to download any series (let's take the daily effective federal funds rate, called `DFF`) is as follows:"
   ]
  },
  {
   "cell_type": "code",
   "execution_count": null,
   "metadata": {},
   "outputs": [],
   "source": [
    "# fetch data\n",
    "request = get_data(f, \"DFF\", observation_start=\"2016-01-01\");"
   ]
  },
  {
   "cell_type": "markdown",
   "metadata": {},
   "source": [
    "Object `request` is a container with a bunch of stuff. We are first and foremost interested in the data itself:"
   ]
  },
  {
   "cell_type": "code",
   "execution_count": null,
   "metadata": {},
   "outputs": [],
   "source": [
    "# retrieve the dataframe\n",
    "ffr = request.df;\n",
    "plot(ffr[:date], ffr[:value])"
   ]
  },
  {
   "cell_type": "markdown",
   "metadata": {
    "collapsed": true
   },
   "source": [
    "## Example: from the website of Kenneth French\n",
    "located under http://mba.tuck.dartmouth.edu/pages/faculty/ken.french/data_library.html\n",
    "\n",
    "The files are listed as .zip archives, each with a name. We will download the research factors at the daily frequency."
   ]
  },
  {
   "cell_type": "code",
   "execution_count": null,
   "metadata": {},
   "outputs": [],
   "source": [
    "Pkg.add(\"ZipFile\")\n",
    "\n",
    "# For unpacking files from Kenneth French's website\n",
    "using ZipFile"
   ]
  },
  {
   "cell_type": "code",
   "execution_count": null,
   "metadata": {},
   "outputs": [],
   "source": [
    "# address and file name (mind the different web address!)\n",
    "http = \"http://mba.tuck.dartmouth.edu/pages/faculty/ken.french/ftp/\";\n",
    "filename = \"F-F_Research_Data_Factors_daily_CSV.zip\";"
   ]
  },
  {
   "cell_type": "code",
   "execution_count": null,
   "metadata": {},
   "outputs": [],
   "source": [
    "# download\n",
    "download(string(http, filename), string(\"Results/\", filename));"
   ]
  },
  {
   "cell_type": "markdown",
   "metadata": {},
   "source": [
    "Carefully inspect the contents of the .csv file you are about to parse. Mind the number of useless lines at the beginning and end, the number of columns and the date format -- neglecting any of these parameters will result in an error."
   ]
  },
  {
   "cell_type": "code",
   "execution_count": null,
   "metadata": {},
   "outputs": [],
   "source": [
    "# delimiter is comma ','\n",
    "delim = ',';\n",
    "# number of the line with column names\n",
    "header = 5;\n",
    "# number of columns with numerical data\n",
    "N = 4;\n",
    "# data types, starting with date\n",
    "types = vcat(Date, fill(Float64, N));\n",
    "# format of dates in the first columns\n",
    "dateformat = \"yyyymmdd\";\n",
    "# number of rows to read in\n",
    "rows = 1000;"
   ]
  },
  {
   "cell_type": "markdown",
   "metadata": {},
   "source": [
    "Now, unzip the archive and parse the single .csv file from it"
   ]
  },
  {
   "cell_type": "code",
   "execution_count": null,
   "metadata": {},
   "outputs": [],
   "source": [
    "# unzip\n",
    "unzipped = ZipFile.Reader(string(\"Results/\", filename));\n",
    "\n",
    "# parse\n",
    "ff_factors = CSV.read(unzipped.files[1], \n",
    "    delim=delim, \n",
    "    header=header, \n",
    "    types=types, \n",
    "    dateformat=dateformat, \n",
    "    rows=rows);\n",
    "\n",
    "# date column has no name -> rename it\n",
    "rename!(ff_factors, Symbol(\"\"), :date)\n",
    "\n",
    "println(\"\\nparsed data frame:\\n\")\n",
    "print(ff_factors)"
   ]
  },
  {
   "cell_type": "markdown",
   "metadata": {},
   "source": [
    "# Example: from Quandl\n",
    "\n",
    "[Quandl](https://www.quandl.com/) offers a free API which GitHub user **milktrader** used to write `Quandl` package (registered). Documentation is [here](http://quandljl.readthedocs.io/en/latest/)."
   ]
  },
  {
   "cell_type": "code",
   "execution_count": null,
   "metadata": {},
   "outputs": [],
   "source": [
    "Pkg.add(\"Quandl\")\n",
    "using Quandl"
   ]
  },
  {
   "cell_type": "markdown",
   "metadata": {
    "collapsed": true
   },
   "source": [
    "Once again, you will need an API key. This should work:\n",
    "\n",
    "**xyPFrsWutTCZEpTWZAHg**\n",
    "\n",
    "but you can always register an own key."
   ]
  },
  {
   "cell_type": "code",
   "execution_count": null,
   "metadata": {},
   "outputs": [],
   "source": [
    "# set key\n",
    "set_auth_token(\"xyPFrsWutTCZEpTWZAHg\")"
   ]
  },
  {
   "cell_type": "markdown",
   "metadata": {},
   "source": [
    "Request series in the form of a DataFrame"
   ]
  },
  {
   "cell_type": "code",
   "execution_count": null,
   "metadata": {},
   "outputs": [],
   "source": [
    "# request Bitcoin price over 2016 (from anothe exchange)\n",
    "btc = quandl(\"BITFINEX/BTCUSD\", from=\"2016-01-01\", to=\"2016-12-31\", format=\"DataFrame\");"
   ]
  },
  {
   "cell_type": "code",
   "execution_count": null,
   "metadata": {},
   "outputs": [],
   "source": [
    "# plot\n",
    "plot(btc[:Date], btc[:Last], lw=1.5)"
   ]
  }
 ],
 "metadata": {
  "kernelspec": {
   "display_name": "Julia 0.6.0",
   "language": "julia",
   "name": "julia-0.6"
  },
  "language_info": {
   "file_extension": ".jl",
   "mimetype": "application/julia",
   "name": "julia",
   "version": "0.6.0"
  }
 },
 "nbformat": 4,
 "nbformat_minor": 2
}
