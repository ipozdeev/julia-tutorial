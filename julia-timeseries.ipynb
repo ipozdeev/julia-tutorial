{
 "cells": [
  {
   "cell_type": "markdown",
   "metadata": {},
   "source": [
    "# Time series analysis with Julia\n",
    "is easiest done with the pandas-like ```TimeSeries``` package. The pakage is registered."
   ]
  },
  {
   "cell_type": "code",
   "execution_count": null,
   "metadata": {},
   "outputs": [],
   "source": [
    "# Pkg.add(\"TimeSeries\")\n",
    "using TimeSeries"
   ]
  },
  {
   "cell_type": "markdown",
   "metadata": {},
   "source": [
    "# Basics\n",
    "## TimeArray\n",
    "At the heart of Timeseries is `TimeArray`, an Array-like collection of columns indexed by time (rows). A `TimeArray` is constructed as follows:\n",
    "```julia\n",
    "tarr = TimeArray(dt, val, colnames)\n",
    "```\n",
    "where `dt` is a `(T,)` collection of `Date` instances, `val` are a `(T,N)` array, and `colnames` is a `(N,)` collection.\n",
    "\n",
    "Let's create a frame of two series called 'MSFT' and 'TSLA' populated with random numbers:"
   ]
  },
  {
   "cell_type": "code",
   "execution_count": null,
   "metadata": {},
   "outputs": [],
   "source": [
    "# let's take T=20 days in January 1999\n",
    "T, N = 20, 2\n",
    "\n",
    "# dates are a sequence of T days from January 1, 1999\n",
    "start_date = Date(1999, 1, 1)\n",
    "dt = collect(start_date : start_date + Dates.Day(T-1))\n",
    "\n",
    "# column names are two strings\n",
    "colnames = String[\"MSFT\", \"TSLA\"]\n",
    "\n",
    "# values are random normally distributed numbers\n",
    "val = randn(T, N)\n",
    "\n",
    "# construct array\n",
    "tarr = TimeArray(dt, val, colnames)\n",
    "\n",
    "print(tarr)"
   ]
  },
  {
   "cell_type": "markdown",
   "metadata": {},
   "source": [
    "## Extracting values and dates\n",
    "Sometimes it is useful to extract values and dates from a `TimeArray`. This is done using functions `values` and `timestamp`:"
   ]
  },
  {
   "cell_type": "code",
   "execution_count": null,
   "metadata": {},
   "outputs": [],
   "source": [
    "println(\"\\nvalues of tarr:\\n\")\n",
    "print(values(tarr))\n",
    "println(\"\\n\\ndates of tarr:\\n\")\n",
    "print(timestamp(tarr))"
   ]
  },
  {
   "cell_type": "markdown",
   "metadata": {},
   "source": [
    "## Handy functions\n",
    "### Selectors"
   ]
  },
  {
   "cell_type": "code",
   "execution_count": null,
   "metadata": {},
   "outputs": [],
   "source": [
    "# print first `k` values\n",
    "k = 6\n",
    "print(head(tarr, k))"
   ]
  },
  {
   "cell_type": "code",
   "execution_count": null,
   "metadata": {},
   "outputs": [],
   "source": [
    "# print last `k` values\n",
    "print(tail(tarr, k))"
   ]
  },
  {
   "cell_type": "code",
   "execution_count": null,
   "metadata": {},
   "outputs": [],
   "source": [
    "# select column \"MSFT\"\n",
    "print(head(tarr[\"MSFT\"], k))"
   ]
  },
  {
   "cell_type": "code",
   "execution_count": null,
   "metadata": {},
   "outputs": [],
   "source": [
    "# select values from some date onwards\n",
    "date_from = Date(1999, 1, 10)\n",
    "print(from(tarr, date_from))"
   ]
  },
  {
   "cell_type": "code",
   "execution_count": null,
   "metadata": {},
   "outputs": [],
   "source": [
    "# select values from some date to some other date\n",
    "date_from = Date(1999, 1, 10)\n",
    "date_to = Date(1999, 1, 12)\n",
    "# print(to(from(new_arr, date_from), date_to))\n",
    "print(tarr[date_from : date_to])"
   ]
  },
  {
   "cell_type": "code",
   "execution_count": null,
   "metadata": {},
   "outputs": [],
   "source": [
    "# aggregate by some condition\n",
    "println(\"\\nstock values on tuesday:\\n\")\n",
    "print(when(tarr, dayofweek, 2))"
   ]
  },
  {
   "cell_type": "markdown",
   "metadata": {},
   "source": [
    "more conditions:\n",
    "\n",
    "| Method          | Example       |\n",
    "| -------------   | :-----------: |\n",
    "| `month`         | 1             |\n",
    "| `quarterofyear` | 4             |\n",
    "| `year`          | 2000          |\n",
    "\n",
    "yet more in the official [docs](http://timeseriesjl.readthedocs.io/en/latest/split.html#when)"
   ]
  },
  {
   "cell_type": "markdown",
   "metadata": {},
   "source": [
    "### Shifters"
   ]
  },
  {
   "cell_type": "code",
   "execution_count": null,
   "metadata": {},
   "outputs": [],
   "source": [
    "# lag values by `p`\n",
    "p = 1\n",
    "tarr_lagged = lag(tarr, p)\n",
    "\n",
    "println(\"\\nfirst values of the old array\\n\")\n",
    "print(head(tarr, 4))\n",
    "println(\"\\nfirst values of the array lagged by 1\\n\")\n",
    "print(head(tarr_lagged, 4))"
   ]
  },
  {
   "cell_type": "code",
   "execution_count": null,
   "metadata": {},
   "outputs": [],
   "source": [
    "# lead\n",
    "println(\"\\nfirst values of the old array\\n\")\n",
    "print(head(tarr, 4))\n",
    "println(\"\\nfirst values of the array lagged by -1\\n\")\n",
    "print(head(lead(tarr, 1), 4))"
   ]
  },
  {
   "cell_type": "markdown",
   "metadata": {},
   "source": [
    "### Resampler\n",
    "syntax:\n",
    "```\n",
    "collapse(ta, period, timestamp, value)\n",
    "```\n",
    "where `period` is the aggregation period, e.g. `month` or `week`; timestamp is the function to apply to dates, e.g. `last` to take the last value of the aggregation period or `first` to take the first one; value is the function to apply to values, e.g. `mean` to take the average within each aggregation period."
   ]
  },
  {
   "cell_type": "code",
   "execution_count": null,
   "metadata": {},
   "outputs": [],
   "source": [
    "# resample weekly by summing values and reindexing with Sundays (that's what `last` does); \n",
    "#     if values are daily log-returns, this gives weekly log-returns\n",
    "print(collapse(tarr, week, last, sum))"
   ]
  },
  {
   "cell_type": "markdown",
   "metadata": {},
   "source": [
    "### Concatenation\n",
    "horizontal concatenation is done with `merge`, vertical -- with `vcat` (columns need to coincide)"
   ]
  },
  {
   "cell_type": "code",
   "execution_count": null,
   "metadata": {},
   "outputs": [],
   "source": [
    "# rename `new_arr` and stack it horzontally with the original self\n",
    "tarr_renamed = rename(tarr, [\"MSFT0\", \"TSLA0\"])\n",
    "tarr_2 = merge(tarr, tarr_renamed)\n",
    "print(tarr_2)"
   ]
  },
  {
   "cell_type": "markdown",
   "metadata": {},
   "source": [
    "## Calculations on TimeArrays\n",
    "The operations are only performed on values that share a timestamp, e.g. when adding two TimeArrays, the values on 1999-01-03 in the first array are added to those on 1999-01-03 of the second array and so on.\n",
    "\n",
    "Let's create a second array, with some dates overlapping the dates of `tarr`:"
   ]
  },
  {
   "cell_type": "code",
   "execution_count": null,
   "metadata": {},
   "outputs": [],
   "source": [
    "# let's take 10 days in early 1999\n",
    "T, N = 10, 1\n",
    "\n",
    "# dates, some will overlap the last dates of `new_arr\n",
    "dates = [tarr.timestamp[end-4] + Dates.Day(p) for p = collect(1:T)]\n",
    "\n",
    "# column names are a string\n",
    "colnames = String[\"Rf\"]\n",
    "\n",
    "# values are random normally distributed numbers\n",
    "values = rand(T, N)*100\n",
    "\n",
    "# construct array\n",
    "rf = TimeArray(dates, values, colnames)\n",
    "\n",
    "print(rf)"
   ]
  },
  {
   "cell_type": "code",
   "execution_count": null,
   "metadata": {},
   "outputs": [],
   "source": [
    "# subtract risk-free rate from both\n",
    "println(\"\\nmind that only 'common' dates are left!\\n\")\n",
    "print(tarr .- rf)"
   ]
  },
  {
   "cell_type": "markdown",
   "metadata": {},
   "source": [
    "## Plotting"
   ]
  },
  {
   "cell_type": "code",
   "execution_count": null,
   "metadata": {},
   "outputs": [],
   "source": [
    "using Plots\n",
    "gr()"
   ]
  },
  {
   "cell_type": "markdown",
   "metadata": {},
   "source": [
    "We'll create a function that will plot a TimeArray and could contain our settings. The only setting so far will be linewidth of 1.5:"
   ]
  },
  {
   "cell_type": "code",
   "execution_count": null,
   "metadata": {},
   "outputs": [],
   "source": [
    "\"\"\"\n",
    "Plot a TimeArray on the date axis.\n",
    "    \n",
    "Parameters\n",
    "----------\n",
    "ta : TimeArray\n",
    "    \n",
    "Returns\n",
    "-------\n",
    "nothing\n",
    "\"\"\"\n",
    "function prettyplot(ta::TimeArray)\n",
    "    plot(ta, lw=1.5)\n",
    "end"
   ]
  },
  {
   "cell_type": "code",
   "execution_count": null,
   "metadata": {},
   "outputs": [],
   "source": [
    "# print\n",
    "prettyplot(tarr)"
   ]
  },
  {
   "cell_type": "markdown",
   "metadata": {},
   "source": [
    "# Time series analysis"
   ]
  },
  {
   "cell_type": "markdown",
   "metadata": {},
   "source": [
    "## Filters\n",
    "A handy feature is rolling and expanding calculations:"
   ]
  },
  {
   "cell_type": "code",
   "execution_count": null,
   "metadata": {},
   "outputs": [],
   "source": [
    "# 5-period moving average\n",
    "w = 5\n",
    "prettyplot(moving(tarr, mean, w))"
   ]
  },
  {
   "cell_type": "code",
   "execution_count": null,
   "metadata": {},
   "outputs": [],
   "source": [
    "# 10-period moving Sharpe ratio (risk-free rate taken to be 0)\n",
    "w = 10\n",
    "prettyplot(moving(tarr, mean, w) ./ moving(tarr, std, w))"
   ]
  },
  {
   "cell_type": "code",
   "execution_count": null,
   "metadata": {},
   "outputs": [],
   "source": [
    "# rolling 7-period weird statistic: min / max\n",
    "# define function calculating the desired quantity\n",
    "weird_fun = arr -> maximum(arr) / minimum(arr)\n",
    "prettyplot(moving(tarr, weird_fun, 7))"
   ]
  },
  {
   "cell_type": "code",
   "execution_count": null,
   "metadata": {},
   "outputs": [],
   "source": [
    "# expanding minimum\n",
    "prettyplot(upto(tarr, minimum))"
   ]
  },
  {
   "cell_type": "markdown",
   "metadata": {},
   "source": [
    "# Converting TimeArrays to DataFrames\n",
    "using `IterableTables` package (registered):"
   ]
  },
  {
   "cell_type": "code",
   "execution_count": null,
   "metadata": {},
   "outputs": [],
   "source": [
    "Pkg.add(\"IterableTables\")"
   ]
  },
  {
   "cell_type": "code",
   "execution_count": null,
   "metadata": {},
   "outputs": [],
   "source": [
    "using DataFrames, IterableTables"
   ]
  },
  {
   "cell_type": "code",
   "execution_count": null,
   "metadata": {},
   "outputs": [],
   "source": [
    "# convert\n",
    "df = DataFrame(tarr)\n",
    "print(df)"
   ]
  }
 ],
 "metadata": {
  "kernelspec": {
   "display_name": "Julia 0.6.0",
   "language": "julia",
   "name": "julia-0.6"
  },
  "language_info": {
   "file_extension": ".jl",
   "mimetype": "application/julia",
   "name": "julia",
   "version": "0.6.0"
  }
 },
 "nbformat": 4,
 "nbformat_minor": 2
}
